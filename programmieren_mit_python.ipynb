{
 "cells": [
  {
   "cell_type": "code",
   "execution_count": 1,
   "id": "2b1e969d",
   "metadata": {
    "scrolled": true
   },
   "outputs": [],
   "source": [
    "# sql alchemy for database connection\n",
    "import sqlalchemy as db\n",
    "from sqlalchemy import inspect\n",
    "from sqlalchemy.orm import sessionmaker\n",
    "\n",
    "import os\n",
    "\n",
    "# pandas for data handling\n",
    "import pandas as pd\n",
    "# numpy for numerical computing\n",
    "import numpy as np\n",
    "\n",
    "#import cryptography\n",
    "\n",
    "from dotenv import load_dotenv\n",
    "\n",
    "from bokeh.plotting import figure, output_file, show\n",
    "from bokeh.models import ColumnDataSource\n",
    "from bokeh.models.tools import HoverTool\n",
    "from bokeh.io import output_notebook\n",
    "from bokeh.layouts import gridplot\n",
    "\n",
    "# Import other ipynb files\n",
    "import import_ipynb\n",
    "import functions as fn"
   ]
  },
  {
   "cell_type": "code",
   "execution_count": null,
   "id": "2f919a60",
   "metadata": {},
   "outputs": [],
   "source": [
    "# Code excample from study script\n",
    "# load environment variables\n",
    "load_dotenv('credentials.env')\n",
    "# create engine object\n",
    "sql_password = os.getenv('MYSQL_PASSWORD')\n",
    "con_str = \"mysql+pymysql://root:\" + sql_password + \"@127.0.0.1:3306/pmp\"\n",
    "engine = db.create_engine(con_str, \\\n",
    "                          #echo = True\n",
    "                         )\n",
    "\n",
    "# create database connection\n",
    "connection = engine.connect()\n",
    "\n",
    "# create metadata object\n",
    "meta_data = db.MetaData()"
   ]
  },
  {
   "cell_type": "code",
   "execution_count": null,
   "id": "5f9eb5b0",
   "metadata": {
    "scrolled": true
   },
   "outputs": [],
   "source": [
    "# Get all table names from database\n",
    "insp = inspect(engine)\n",
    "print(insp.get_table_names())"
   ]
  },
  {
   "cell_type": "markdown",
   "id": "d87612b3",
   "metadata": {},
   "source": [
    "### import train data from csv file"
   ]
  },
  {
   "cell_type": "code",
   "execution_count": 2,
   "id": "a3faa44b",
   "metadata": {
    "scrolled": true
   },
   "outputs": [],
   "source": [
    "# Load train data to dataframe\n",
    "train_df = fn.Read_Dataframe.read_csv_to_dataframe('datasets/train.csv')\n",
    "#train_df"
   ]
  },
  {
   "cell_type": "code",
   "execution_count": null,
   "id": "27fc1d08",
   "metadata": {},
   "outputs": [],
   "source": [
    "# Rename columns of train_df\n",
    "train_df = train_df.rename(columns={\"x\": \"X\", \"y1\": \"Y1 (Training Funktion)\", \"y2\":\"Y2 (Training Funktion)\", \\\n",
    "                                   \"y3\":\"Y3 (Training Funktion)\", \"y4\":\"Y4 (Training Funktion)\"})"
   ]
  },
  {
   "cell_type": "markdown",
   "id": "9cbd21b4",
   "metadata": {},
   "source": [
    "#### Write data to mysql database"
   ]
  },
  {
   "cell_type": "code",
   "execution_count": null,
   "id": "c09831ff",
   "metadata": {},
   "outputs": [],
   "source": [
    "# write test data from df to table\n",
    "train_df.to_sql(\n",
    "    'traindata',\n",
    "    con=connection,\n",
    "    if_exists='append',\n",
    "    index=False,\n",
    "    dtype={\n",
    "        \"X\": db.Float,\n",
    "        \"Y1 (Training Funktion)\t\": db.Float,\n",
    "        \"Y2 (Training Funktion)\t\": db.Float,\n",
    "        \"Y3 (Training Funktion)\t\": db.Float,\n",
    "        \"Y4 (Training Funktion)\": db.Float,\n",
    "    }    )"
   ]
  },
  {
   "cell_type": "markdown",
   "id": "d5ec542c",
   "metadata": {},
   "source": [
    "### import ideal data from csv file"
   ]
  },
  {
   "cell_type": "code",
   "execution_count": null,
   "id": "6eba26f7",
   "metadata": {},
   "outputs": [],
   "source": [
    "# create counter to use for assigning 50 columns\n",
    "counter = range(1,51,1)"
   ]
  },
  {
   "cell_type": "code",
   "execution_count": null,
   "id": "ecc69f99",
   "metadata": {},
   "outputs": [],
   "source": [
    "# Load ideal data to dataframe\n",
    "ideal_df = fn.Read_Dataframe.read_csv_to_dataframe('ideal.csv')"
   ]
  },
  {
   "cell_type": "code",
   "execution_count": null,
   "id": "7ec1c869",
   "metadata": {},
   "outputs": [],
   "source": [
    "# sort ascending by x\n",
    "ideal_df.sort_values(by = [\"x\"], ascending=True,\\\n",
    "                                     inplace=True, ignore_index=True)\n",
    "ideal_df.head()"
   ]
  },
  {
   "cell_type": "code",
   "execution_count": null,
   "id": "0bb65622",
   "metadata": {},
   "outputs": [],
   "source": [
    "# rename columns of ideal_df to match db column names\n",
    "ideal_df = ideal_df.rename(columns={\"x\": \"X\"+\" (Test Funktion)\"})    \n",
    "for i in counter:\n",
    "    ideal_df = ideal_df.rename(columns={\"y\"+str(i): \"Y\"+str(i)+\" (Ideale Funktion)\"})        \n",
    "#ideal_df.head()\n"
   ]
  },
  {
   "cell_type": "markdown",
   "id": "b3e632b3",
   "metadata": {},
   "source": [
    "#### Write data to mysql database"
   ]
  },
  {
   "cell_type": "code",
   "execution_count": null,
   "id": "c4823c76",
   "metadata": {},
   "outputs": [],
   "source": [
    "# Create dictionary with column name and column data type for uploading data to my sql db \n",
    "columnsInput={\n",
    "        \"X (Test Funktion)\": db.Float,\n",
    "    }\n",
    "for i in counter:\n",
    "    columnsInput[\"Y\"+str(i)+\" (Ideale Funktion)\"] = db.Float"
   ]
  },
  {
   "cell_type": "code",
   "execution_count": null,
   "id": "c0a9f484",
   "metadata": {},
   "outputs": [],
   "source": [
    "# Write data from dataframe to mysql db\n",
    "ideal_df.to_sql(\n",
    "    'idealdata',\n",
    "    con=connection,\n",
    "    if_exists='append',\n",
    "    index=False,\n",
    "    dtype = columnsInput\n",
    ")"
   ]
  },
  {
   "cell_type": "markdown",
   "id": "602d8bb5",
   "metadata": {},
   "source": [
    "## Excersice 1"
   ]
  },
  {
   "cell_type": "markdown",
   "id": "f2721bfd",
   "metadata": {},
   "source": [
    "### Visualizing data"
   ]
  },
  {
   "cell_type": "markdown",
   "id": "ad7e1ae3",
   "metadata": {},
   "source": [
    "#### Ideal data"
   ]
  },
  {
   "cell_type": "code",
   "execution_count": null,
   "id": "6b633014",
   "metadata": {},
   "outputs": [],
   "source": [
    "# Plotting ideal data by using bokeh scatter plot and pandas datafragem\n",
    "# because of the many columns I'm using a gridplot which is prepared within a for loop\n",
    "figure_list = []\n",
    "for i in counter:\n",
    "    ideal_plot = figure()\n",
    "    ideal_plot.circle(x=\"X (Test Funktion)\",y=\"Y\"+str(i)+\" (Ideale Funktion)\", source = ideal_df, size = 3, color='black')\n",
    "    ideal_plot.title.text = \"y\"+str(i)\n",
    "    ideal_plot.xaxis.axis_label = \"x\"\n",
    "    ideal_plot.yaxis.axis_label = \"y\"+str(i)\n",
    "    figure_list.append(ideal_plot)\n",
    "grid = gridplot(figure_list, ncols=5,width=250, height=250)\n",
    "show(grid)"
   ]
  },
  {
   "cell_type": "markdown",
   "id": "a7287732",
   "metadata": {},
   "source": [
    "####  Train data"
   ]
  },
  {
   "cell_type": "code",
   "execution_count": null,
   "id": "06da4da9",
   "metadata": {},
   "outputs": [],
   "source": [
    "# Plotting train data by using bokeh scatter plot and pandas datafragem\n",
    "train_plot = figure()\n",
    "train_plot.circle(x=\"X\",y=\"Y1 (Training Funktion)\", source = train_df, size = 3, color='green', legend_label=\"y1\")\n",
    "train_plot.circle(x=\"X\",y=\"Y2 (Training Funktion)\", source = train_df, size = 3, color='blue', legend_label=\"y2\")\n",
    "train_plot.circle(x=\"X\",y=\"Y3 (Training Funktion)\", source = train_df, size = 3, color='yellow', legend_label=\"y3\")\n",
    "train_plot.circle(x=\"X\",y=\"Y4 (Training Funktion)\", source = train_df, size = 3, color='red', legend_label=\"y4\")\n",
    "train_plot.title.text = \"Train data\"\n",
    "train_plot.xaxis.axis_label = \"x\"\n",
    "train_plot.yaxis.axis_label = \"y\"\n",
    "show(train_plot)"
   ]
  },
  {
   "cell_type": "markdown",
   "id": "4ab1be82",
   "metadata": {},
   "source": [
    "### Check ideal function for train data function y1"
   ]
  },
  {
   "cell_type": "code",
   "execution_count": null,
   "id": "c3525b1a",
   "metadata": {
    "scrolled": true
   },
   "outputs": [],
   "source": [
    "ideal_function_train_y1 = fn.Fitting_Function_ideal.find_fitting_function(train_df, ideal_df ,1)"
   ]
  },
  {
   "cell_type": "code",
   "execution_count": null,
   "id": "41c1f700",
   "metadata": {},
   "outputs": [],
   "source": [
    "fn.Visualize_data.vis_train_ideal(train_df, ideal_df, 1, ideal_function_train_y1)"
   ]
  },
  {
   "cell_type": "markdown",
   "id": "54b6ac5e",
   "metadata": {},
   "source": [
    "### Check ideal function for train data function y2"
   ]
  },
  {
   "cell_type": "code",
   "execution_count": null,
   "id": "013d2bea",
   "metadata": {},
   "outputs": [],
   "source": [
    "ideal_function_train_y2 = fn.Fitting_Function_ideal.find_fitting_function(train_df, ideal_df ,2)"
   ]
  },
  {
   "cell_type": "code",
   "execution_count": null,
   "id": "36e3948a",
   "metadata": {},
   "outputs": [],
   "source": [
    "fn.Visualize_data.vis_train_ideal(train_df, ideal_df, 2, ideal_function_train_y2)"
   ]
  },
  {
   "cell_type": "markdown",
   "id": "6560621d",
   "metadata": {},
   "source": [
    "### Check ideal function for train data function y3"
   ]
  },
  {
   "cell_type": "code",
   "execution_count": null,
   "id": "fe360a18",
   "metadata": {},
   "outputs": [],
   "source": [
    "ideal_function_train_y3 = fn.Fitting_Function_ideal.find_fitting_function(train_df, ideal_df ,3)"
   ]
  },
  {
   "cell_type": "code",
   "execution_count": null,
   "id": "3d59e01b",
   "metadata": {},
   "outputs": [],
   "source": [
    "fn.Visualize_data.vis_train_ideal(train_df, ideal_df, 3, ideal_function_train_y3)"
   ]
  },
  {
   "cell_type": "markdown",
   "id": "5d8f0eb5",
   "metadata": {},
   "source": [
    "### Check ideal function for train data function y4"
   ]
  },
  {
   "cell_type": "code",
   "execution_count": null,
   "id": "4e1d8356",
   "metadata": {},
   "outputs": [],
   "source": [
    "ideal_function_train_y4 = fn.Fitting_Function_ideal.find_fitting_function(train_df, ideal_df ,4)"
   ]
  },
  {
   "cell_type": "code",
   "execution_count": null,
   "id": "b0513c5c",
   "metadata": {},
   "outputs": [],
   "source": [
    "fn.Visualize_data.vis_train_ideal(train_df, ideal_df, 4, ideal_function_train_y4)"
   ]
  },
  {
   "cell_type": "markdown",
   "id": "54286a6f",
   "metadata": {},
   "source": [
    "## Excersize 2"
   ]
  },
  {
   "cell_type": "code",
   "execution_count": null,
   "id": "70543cc4",
   "metadata": {},
   "outputs": [],
   "source": [
    "# Load test data to dataframe\n",
    "test_df = fn.Read_Dataframe.read_csv_to_dataframe('test.csv')\n",
    "test_df.sort_values(by = [\"x\"], ascending=True,\\\n",
    "                                     inplace=True, ignore_index=True)\n"
   ]
  },
  {
   "cell_type": "code",
   "execution_count": null,
   "id": "801edd3a",
   "metadata": {},
   "outputs": [],
   "source": [
    "# Add columns to test_df and rename columns x and y\n",
    "test_df[\"Delta Y (Abweichung)\"] = 0 #np.NaN\n",
    "test_df[\"Nummer der idealen Funktion\"] = \"No ideal function found\" #np.NaN\n",
    "test_df = test_df.rename(columns={\"x\": \"X (Test Funktion)\", \"y\": \"Y1 (Test Funktion)\"})\n",
    "test_df"
   ]
  },
  {
   "cell_type": "code",
   "execution_count": null,
   "id": "93119b33",
   "metadata": {},
   "outputs": [],
   "source": [
    "# Visualizing data\n",
    "# Plotting test data by using bokeh scatter plot and pandas datafragem\n",
    "test_plot = figure()\n",
    "test_plot.circle(x=\"X (Test Funktion)\",y=\"Y1 (Test Funktion)\", source = test_df, size = 10, color='green')\n",
    "test_plot.title.text = \"Test data\"\n",
    "test_plot.xaxis.axis_label = \"x\"\n",
    "test_plot.yaxis.axis_label = \"y\"\n",
    "show(test_plot)"
   ]
  },
  {
   "cell_type": "code",
   "execution_count": null,
   "id": "dab9ba5b",
   "metadata": {},
   "outputs": [],
   "source": [
    "# Create Dataset with fitting ideal functions\n",
    "ideal_fitting_df = ideal_df[[\"X (Test Funktion)\"\n",
    "                             ,\"Y\"+ideal_function_train_y1+\" (Ideale Funktion)\"\n",
    "                             ,\"Y\"+ideal_function_train_y2+\" (Ideale Funktion)\"\n",
    "                             ,\"Y\"+ideal_function_train_y3+\" (Ideale Funktion)\"\n",
    "                             ,\"Y\"+ideal_function_train_y4+\" (Ideale Funktion)\"]].copy()"
   ]
  },
  {
   "cell_type": "code",
   "execution_count": null,
   "id": "8084133d",
   "metadata": {},
   "outputs": [],
   "source": [
    "# Find fitting functions for test data\n",
    "ideal_fitting_headers = list(ideal_fitting_df)\n",
    "for i in range(0,len(test_df),1):\n",
    "    test_x = test_df.iloc[i,0]\n",
    "    test_y = test_df.iloc[i,1]\n",
    "    y_delta = test_df.iloc[i,2]\n",
    "    funct_numb = test_df.iloc[i,3]\n",
    "    for j in range(0,len(ideal_fitting_df),1):\n",
    "        ideal_x = ideal_fitting_df.iloc[j,0]\n",
    "        if test_x == ideal_x:\n",
    "            for k in range(1,len(ideal_fitting_df.columns),1):\n",
    "                ideal_y = ideal_fitting_df.iloc[j,k]\n",
    "                delta = abs(test_y - ideal_y)\n",
    "                if delta < (2**(1/2)):\n",
    "                    if funct_numb == \"No ideal function found\" or delta < y_delta:\n",
    "                        y_delta = delta\n",
    "                        test_df.iat[i,2] = delta\n",
    "                        test_df.iat[i,3] = ideal_fitting_headers[k]"
   ]
  },
  {
   "cell_type": "code",
   "execution_count": null,
   "id": "fc69c77c",
   "metadata": {},
   "outputs": [],
   "source": [
    "# write test data from df to table\n",
    "test_df.to_sql(\n",
    "    'testdata',\n",
    "    con=connection,\n",
    "    if_exists='append',\n",
    "    index=False,\n",
    "    dtype={\n",
    "        \"X (Test Funktion)\": db.Float,\n",
    "        \"Y1 (Test Funktion)\": db.Float,\n",
    "        \"Delta Y (Abweichung)\": db.Float,\n",
    "        \"Nummer der idealen Funktion\": db.String,\n",
    "    }    )"
   ]
  }
 ],
 "metadata": {
  "kernelspec": {
   "display_name": "Python 3 (ipykernel)",
   "language": "python",
   "name": "python3"
  },
  "language_info": {
   "codemirror_mode": {
    "name": "ipython",
    "version": 3
   },
   "file_extension": ".py",
   "mimetype": "text/x-python",
   "name": "python",
   "nbconvert_exporter": "python",
   "pygments_lexer": "ipython3",
   "version": "3.9.0"
  }
 },
 "nbformat": 4,
 "nbformat_minor": 5
}
