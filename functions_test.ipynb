{
 "cells": [
  {
   "cell_type": "code",
   "execution_count": 4,
   "id": "957fda2c",
   "metadata": {
    "scrolled": true
   },
   "outputs": [],
   "source": [
    "import unittest\n",
    "#  Import other ipynb files\n",
    "import import_ipynb\n",
    "import functions as fn\n",
    "import pandas as pd"
   ]
  },
  {
   "cell_type": "code",
   "execution_count": 5,
   "id": "f2613a84",
   "metadata": {
    "scrolled": true
   },
   "outputs": [
    {
     "name": "stderr",
     "output_type": "stream",
     "text": [
      "...\n",
      "----------------------------------------------------------------------\n",
      "Ran 3 tests in 0.006s\n",
      "\n",
      "OK\n"
     ]
    }
   ],
   "source": [
    "class TestFunctions(unittest.TestCase):\n",
    "\n",
    "    # Test class for unittests in functions.ipynb\n",
    "    # unittest for quaderror function\n",
    "    #%tb\n",
    "    def test_quad_error(self):\n",
    "        result = fn.Value_functions.quad_error(2,4)\n",
    "        self.assertEqual(result, 4, \"Der quadratische Fehler muss 4 betragen\")\n",
    "        \n",
    "        \n",
    "    def test_euclidean_distance(self):\n",
    "        result = fn.Value_functions.euclidean_distance(0,1,0,4)\n",
    "        self.assertEqual(result, 3, \"Der euklidische Abstand muss 3 betragen\")\n",
    "    \n",
    "    def test_read_csv_to_dataframe(self):\n",
    "        result = fn.Read_Dataframe.read_csv_to_dataframe('train.csv')\n",
    "        self.assertIsInstance(result, pd.DataFrame)\n",
    "        \n",
    "if __name__ == '__main__':\n",
    "    unittest.main(argv=['first-arg-is-ignored'], exit=False)"
   ]
  },
  {
   "cell_type": "code",
   "execution_count": null,
   "id": "e22db56a",
   "metadata": {},
   "outputs": [],
   "source": []
  }
 ],
 "metadata": {
  "kernelspec": {
   "display_name": "Python 3 (ipykernel)",
   "language": "python",
   "name": "python3"
  },
  "language_info": {
   "codemirror_mode": {
    "name": "ipython",
    "version": 3
   },
   "file_extension": ".py",
   "mimetype": "text/x-python",
   "name": "python",
   "nbconvert_exporter": "python",
   "pygments_lexer": "ipython3",
   "version": "3.9.0"
  }
 },
 "nbformat": 4,
 "nbformat_minor": 5
}
